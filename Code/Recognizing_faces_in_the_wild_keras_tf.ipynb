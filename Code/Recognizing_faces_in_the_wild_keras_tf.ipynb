{
  "cells": [
    {
      "cell_type": "code",
      "execution_count": null,
      "metadata": {
        "colab": {
          "base_uri": "https://localhost:8080/"
        },
        "id": "jH3HJ6BEZW9H",
        "outputId": "8f9fcdaf-051e-44bd-a7bb-ee79ef216203"
      },
      "outputs": [
        {
          "output_type": "stream",
          "name": "stdout",
          "text": [
            "Mounted at /content/drive\n"
          ]
        }
      ],
      "source": [
        "from google.colab import drive\n",
        "drive.mount('/content/drive')"
      ]
    },
    {
      "cell_type": "code",
      "execution_count": null,
      "metadata": {
        "colab": {
          "base_uri": "https://localhost:8080/"
        },
        "id": "HqKKrcBEH8at",
        "outputId": "de6c366d-d181-4f2f-a45b-8a4015005171"
      },
      "outputs": [
        {
          "output_type": "stream",
          "name": "stdout",
          "text": [
            "Collecting git+https://github.com/rcmalli/keras-vggface.git\n",
            "  Cloning https://github.com/rcmalli/keras-vggface.git to /tmp/pip-req-build-wz6acltv\n",
            "  Running command git clone -q https://github.com/rcmalli/keras-vggface.git /tmp/pip-req-build-wz6acltv\n",
            "Requirement already satisfied: numpy>=1.9.1 in /usr/local/lib/python3.7/dist-packages (from keras-vggface==0.6) (1.21.6)\n",
            "Requirement already satisfied: scipy>=0.14 in /usr/local/lib/python3.7/dist-packages (from keras-vggface==0.6) (1.4.1)\n",
            "Requirement already satisfied: h5py in /usr/local/lib/python3.7/dist-packages (from keras-vggface==0.6) (3.1.0)\n",
            "Requirement already satisfied: pillow in /usr/local/lib/python3.7/dist-packages (from keras-vggface==0.6) (7.1.2)\n",
            "Requirement already satisfied: keras in /usr/local/lib/python3.7/dist-packages (from keras-vggface==0.6) (2.8.0)\n",
            "Requirement already satisfied: six>=1.9.0 in /usr/local/lib/python3.7/dist-packages (from keras-vggface==0.6) (1.15.0)\n",
            "Requirement already satisfied: pyyaml in /usr/local/lib/python3.7/dist-packages (from keras-vggface==0.6) (3.13)\n",
            "Requirement already satisfied: cached-property in /usr/local/lib/python3.7/dist-packages (from h5py->keras-vggface==0.6) (1.5.2)\n",
            "Building wheels for collected packages: keras-vggface\n",
            "  Building wheel for keras-vggface (setup.py) ... \u001b[?25l\u001b[?25hdone\n",
            "  Created wheel for keras-vggface: filename=keras_vggface-0.6-py3-none-any.whl size=8325 sha256=ab24725b69446a0665a9efcfdcffe520d2770126b202ca95853cbac96cff968c\n",
            "  Stored in directory: /tmp/pip-ephem-wheel-cache-3ev74x6v/wheels/08/df/86/0225d44647ab2256dbf1e006823288fe9cc86367a056e6ea2c\n",
            "Successfully built keras-vggface\n",
            "Installing collected packages: keras-vggface\n",
            "Successfully installed keras-vggface-0.6\n"
          ]
        }
      ],
      "source": [
        "!pip install git+https://github.com/rcmalli/keras-vggface.git"
      ]
    },
    {
      "cell_type": "code",
      "execution_count": null,
      "metadata": {
        "id": "baw94PTzGtFu"
      },
      "outputs": [],
      "source": [
        "import warnings\n",
        "warnings.filterwarnings('ignore')"
      ]
    },
    {
      "cell_type": "code",
      "execution_count": null,
      "metadata": {
        "id": "iqk0RV7bG7Y7"
      },
      "outputs": [],
      "source": [
        "import h5py\n",
        "from collections import defaultdict\n",
        "from glob import glob\n",
        "from random import choice,sample\n",
        "import cv2\n",
        "import numpy as np\n",
        "import pandas as pd\n",
        "from tqdm import tqdm"
      ]
    },
    {
      "cell_type": "code",
      "source": [
        "#!unzip /content/drive/MyDrive/TDL_PROJECT/train.zip -d /content/drive/MyDrive/TDL_PROJECT/train"
      ],
      "metadata": {
        "id": "sFsDGvRl2Pi3"
      },
      "execution_count": null,
      "outputs": []
    },
    {
      "cell_type": "code",
      "source": [
        "!pip install keras.vggface"
      ],
      "metadata": {
        "colab": {
          "base_uri": "https://localhost:8080/"
        },
        "id": "43DLK6tL3hDf",
        "outputId": "5225a115-fdb4-46a1-9afa-e083baf76425"
      },
      "execution_count": null,
      "outputs": [
        {
          "output_type": "stream",
          "name": "stdout",
          "text": [
            "Requirement already satisfied: keras.vggface in /usr/local/lib/python3.7/dist-packages (0.6)\n",
            "Requirement already satisfied: h5py in /usr/local/lib/python3.7/dist-packages (from keras.vggface) (3.1.0)\n",
            "Requirement already satisfied: scipy>=0.14 in /usr/local/lib/python3.7/dist-packages (from keras.vggface) (1.4.1)\n",
            "Requirement already satisfied: six>=1.9.0 in /usr/local/lib/python3.7/dist-packages (from keras.vggface) (1.15.0)\n",
            "Requirement already satisfied: numpy>=1.9.1 in /usr/local/lib/python3.7/dist-packages (from keras.vggface) (1.21.6)\n",
            "Requirement already satisfied: pyyaml in /usr/local/lib/python3.7/dist-packages (from keras.vggface) (3.13)\n",
            "Requirement already satisfied: keras in /usr/local/lib/python3.7/dist-packages (from keras.vggface) (2.8.0)\n",
            "Requirement already satisfied: pillow in /usr/local/lib/python3.7/dist-packages (from keras.vggface) (7.1.2)\n",
            "Requirement already satisfied: cached-property in /usr/local/lib/python3.7/dist-packages (from h5py->keras.vggface) (1.5.2)\n"
          ]
        }
      ]
    },
    {
      "cell_type": "code",
      "source": [
        "!pip install keras_applications"
      ],
      "metadata": {
        "colab": {
          "base_uri": "https://localhost:8080/"
        },
        "id": "Da-oYoyd-imH",
        "outputId": "4135cca7-89b0-436c-9b7f-54d985bb217d"
      },
      "execution_count": null,
      "outputs": [
        {
          "output_type": "stream",
          "name": "stdout",
          "text": [
            "Collecting keras_applications\n",
            "  Downloading Keras_Applications-1.0.8-py3-none-any.whl (50 kB)\n",
            "\u001b[?25l\r\u001b[K     |██████▌                         | 10 kB 20.2 MB/s eta 0:00:01\r\u001b[K     |█████████████                   | 20 kB 10.4 MB/s eta 0:00:01\r\u001b[K     |███████████████████▍            | 30 kB 8.8 MB/s eta 0:00:01\r\u001b[K     |█████████████████████████▉      | 40 kB 8.2 MB/s eta 0:00:01\r\u001b[K     |████████████████████████████████| 50 kB 3.0 MB/s \n",
            "\u001b[?25hRequirement already satisfied: h5py in /usr/local/lib/python3.7/dist-packages (from keras_applications) (3.1.0)\n",
            "Requirement already satisfied: numpy>=1.9.1 in /usr/local/lib/python3.7/dist-packages (from keras_applications) (1.21.6)\n",
            "Requirement already satisfied: cached-property in /usr/local/lib/python3.7/dist-packages (from h5py->keras_applications) (1.5.2)\n",
            "Installing collected packages: keras-applications\n",
            "Successfully installed keras-applications-1.0.8\n"
          ]
        }
      ]
    },
    {
      "cell_type": "code",
      "source": [
        "!pip install keras_preprocessing"
      ],
      "metadata": {
        "colab": {
          "base_uri": "https://localhost:8080/"
        },
        "id": "m8z7L6Wz-nuE",
        "outputId": "cc2d6f48-20a5-4389-d88e-b49d3575bfce"
      },
      "execution_count": null,
      "outputs": [
        {
          "output_type": "stream",
          "name": "stdout",
          "text": [
            "Requirement already satisfied: keras_preprocessing in /usr/local/lib/python3.7/dist-packages (1.1.2)\n",
            "Requirement already satisfied: six>=1.9.0 in /usr/local/lib/python3.7/dist-packages (from keras_preprocessing) (1.15.0)\n",
            "Requirement already satisfied: numpy>=1.9.1 in /usr/local/lib/python3.7/dist-packages (from keras_preprocessing) (1.21.5)\n"
          ]
        }
      ]
    },
    {
      "cell_type": "code",
      "source": [
        "! pip install git+https://github.com/rcmalli/keras-vggface.git\n",
        "!pip install keras_applications --no-deps\n",
        "filename = \"/usr/local/lib/python3.7/dist-packages/keras_vggface/models.py\"\n",
        "text = open(filename).read()\n",
        "open(filename, \"w+\").write(text.replace('keras.engine.topology', 'tensorflow.keras.utils'))\n",
        "import tensorflow as tf\n",
        "\n",
        "#from keras_vggface.vggface import VGGFace"
      ],
      "metadata": {
        "colab": {
          "base_uri": "https://localhost:8080/"
        },
        "id": "FE7FxFQY6EpF",
        "outputId": "e8e7915e-68de-4871-977f-67ecea2241bc"
      },
      "execution_count": null,
      "outputs": [
        {
          "output_type": "stream",
          "name": "stdout",
          "text": [
            "Collecting git+https://github.com/rcmalli/keras-vggface.git\n",
            "  Cloning https://github.com/rcmalli/keras-vggface.git to /tmp/pip-req-build-l450_1vv\n",
            "  Running command git clone -q https://github.com/rcmalli/keras-vggface.git /tmp/pip-req-build-l450_1vv\n",
            "Requirement already satisfied: numpy>=1.9.1 in /usr/local/lib/python3.7/dist-packages (from keras-vggface==0.6) (1.21.6)\n",
            "Requirement already satisfied: scipy>=0.14 in /usr/local/lib/python3.7/dist-packages (from keras-vggface==0.6) (1.4.1)\n",
            "Requirement already satisfied: h5py in /usr/local/lib/python3.7/dist-packages (from keras-vggface==0.6) (3.1.0)\n",
            "Requirement already satisfied: pillow in /usr/local/lib/python3.7/dist-packages (from keras-vggface==0.6) (7.1.2)\n",
            "Requirement already satisfied: keras in /usr/local/lib/python3.7/dist-packages (from keras-vggface==0.6) (2.8.0)\n",
            "Requirement already satisfied: six>=1.9.0 in /usr/local/lib/python3.7/dist-packages (from keras-vggface==0.6) (1.15.0)\n",
            "Requirement already satisfied: pyyaml in /usr/local/lib/python3.7/dist-packages (from keras-vggface==0.6) (3.13)\n",
            "Requirement already satisfied: cached-property in /usr/local/lib/python3.7/dist-packages (from h5py->keras-vggface==0.6) (1.5.2)\n",
            "Building wheels for collected packages: keras-vggface\n",
            "  Building wheel for keras-vggface (setup.py) ... \u001b[?25l\u001b[?25hdone\n",
            "  Created wheel for keras-vggface: filename=keras_vggface-0.6-py3-none-any.whl size=8325 sha256=4011cd5c33ce2808ef69a938df737c490dbf206d4a0df705293412787978c0ce\n",
            "  Stored in directory: /tmp/pip-ephem-wheel-cache-k6tjj6qu/wheels/08/df/86/0225d44647ab2256dbf1e006823288fe9cc86367a056e6ea2c\n",
            "Successfully built keras-vggface\n",
            "Installing collected packages: keras-vggface\n",
            "Successfully installed keras-vggface-0.6\n",
            "Collecting keras_applications\n",
            "  Downloading Keras_Applications-1.0.8-py3-none-any.whl (50 kB)\n",
            "\u001b[K     |████████████████████████████████| 50 kB 2.6 MB/s \n",
            "\u001b[?25hInstalling collected packages: keras-applications\n",
            "Successfully installed keras-applications-1.0.8\n"
          ]
        }
      ]
    },
    {
      "cell_type": "code",
      "execution_count": null,
      "metadata": {
        "id": "4sp3CJKFHRWy"
      },
      "outputs": [],
      "source": [
        "import tensorflow as tf\n",
        "import keras\n",
        "import tensorflow.python.keras.engine\n",
        "from keras.callbacks import ModelCheckpoint,ReduceLROnPlateau\n",
        "from keras.layers import Input,Dense,GlobalMaxPool2D,GlobalAvgPool2D,Concatenate,Multiply,Dropout,Subtract,Lambda\n",
        "from keras.models import Model\n",
        "from tensorflow.keras.layers import Lambda\n",
        "from tensorflow.keras.optimizers import Adam\n",
        "from keras_vggface.utils import preprocess_input\n",
        "from keras_vggface.vggface import VGGFace\n",
        "from keras import backend as K\n",
        "from keras.models import load_model"
      ]
    },
    {
      "cell_type": "code",
      "execution_count": null,
      "metadata": {
        "id": "MK8qb18aHW30"
      },
      "outputs": [],
      "source": [
        "train_file_path='/content/drive/MyDrive/Dataset/train_relationships.csv'\n",
        "train_folders_path='/content/drive/MyDrive/Dataset/train/'\n",
        "val_families='F09' #families which has F09*** in folder name"
      ]
    },
    {
      "cell_type": "code",
      "execution_count": null,
      "metadata": {
        "colab": {
          "base_uri": "https://localhost:8080/"
        },
        "id": "eWD1bVlfHb-I",
        "outputId": "3826eba3-2bfb-4196-ab51-cd6ebc2545d4"
      },
      "outputs": [
        {
          "output_type": "stream",
          "name": "stdout",
          "text": [
            "CPU times: user 242 ms, sys: 207 ms, total: 449 ms\n",
            "Wall time: 1.53 s\n"
          ]
        }
      ],
      "source": [
        "%%time\n",
        "#/content/drive/MyDrive/TDL_PROJECT/train/F0002/MID1/P00009_face3.jpg\n",
        "all_images=glob(train_folders_path+'*/*/*.jpg') #paths of all images\n",
        "train_images=[x for x in all_images if val_families not in x] #path of images used for training\n",
        "val_images=[x for x in all_images if val_families in x] #path of validation images (belonging to families starting with F09)"
      ]
    },
    {
      "cell_type": "code",
      "execution_count": null,
      "metadata": {
        "id": "rVC3V2_nHeJm"
      },
      "outputs": [],
      "source": [
        "ppl=[x.split('/')[-3]+'/'+x.split(\"/\")[-2] for x in all_images] #obtaining the people in the format give in train_relationship"
      ]
    },
    {
      "cell_type": "code",
      "execution_count": null,
      "metadata": {
        "id": "2pJigNvQHgWd"
      },
      "outputs": [],
      "source": [
        "#Mapping people to their faces (list of faces)\n",
        "train_person_to_images_map=defaultdict(list)\n",
        "for x in train_images:\n",
        "  train_person_to_images_map[x.split('/')[-3]+'/'+x.split(\"/\")[-2]].append(x)\n",
        "\n",
        "val_person_to_images_map=defaultdict(list)\n",
        "for x in val_images:\n",
        "  val_person_to_images_map[x.split('/')[-3]+'/'+x.split('/')[-2]].append(x)"
      ]
    },
    {
      "cell_type": "code",
      "execution_count": null,
      "metadata": {
        "id": "NYgz2Fc1HijF"
      },
      "outputs": [],
      "source": [
        "#Obtaining relationship pairs and converting them to tuples\n",
        "relationships = pd.read_csv(train_file_path)\n",
        "relationships = list(zip(relationships.p1.values, relationships.p2.values))\n",
        "relationships = [x for x in relationships if x[0] in ppl and x[1] in ppl]"
      ]
    },
    {
      "cell_type": "code",
      "execution_count": null,
      "metadata": {
        "id": "5MRB2SzPHkQS"
      },
      "outputs": [],
      "source": [
        "#Diving the tuples into train and validation\n",
        "train=[x for x in relationships if val_families not in x[0]]\n",
        "val=[x for x in relationships if val_families in x[0]]"
      ]
    },
    {
      "cell_type": "code",
      "execution_count": null,
      "metadata": {
        "id": "HposeONAHmMG"
      },
      "outputs": [],
      "source": [
        "#reads the image and converts into numpy aarray and finally returns the image processed as required by VGGFace\n",
        "def img2arr(path):\n",
        "  img=cv2.imread(path)\n",
        "  img=np.array(img).astype(np.float)\n",
        "  return preprocess_input(img)"
      ]
    },
    {
      "cell_type": "code",
      "execution_count": null,
      "metadata": {
        "id": "sVbInAUNHokD"
      },
      "outputs": [],
      "source": [
        "#Generator to use with fit_generator to generate data in batches\n",
        "def data_generator(list_tuples,person_to_images_map,batch_size=16):\n",
        "  ppl=list(person_to_images_map.keys())\n",
        "  while True:\n",
        "    batch_tuples=sample(list_tuples,batch_size//2)\n",
        "    labels=[1]*len(batch_tuples)\n",
        "    while len(batch_tuples)<batch_size:\n",
        "      p1=choice(ppl)\n",
        "      p2=choice(ppl)\n",
        "\n",
        "      if p1!=p2 and (p1,p2) not in list_tuples and (p2,p1) not in list_tuples:\n",
        "        batch_tuples.append((p1,p2))\n",
        "        labels.append(0)\n",
        "    for x in batch_tuples:\n",
        "      if not len(person_to_images_map[x[0]]):\n",
        "        print(x[0])\n",
        "    X1=[choice(person_to_images_map[x[0]]) for x in batch_tuples]\n",
        "    X1=np.array([img2arr(x) for x in X1])\n",
        "    X2=[choice(person_to_images_map[x[1]]) for x in batch_tuples]\n",
        "    X2=np.array([img2arr(x) for x in X2])\n",
        "    labels = np.asarray(labels).reshape((-1,1))\n",
        "    yield [X1,X2],labels"
      ]
    },
    {
      "cell_type": "code",
      "execution_count": null,
      "metadata": {
        "id": "P9oDzWZbHrUB"
      },
      "outputs": [],
      "source": [
        "#Model architecture\n",
        "def build_model():\n",
        "  input1=Input(shape=(224,224,3))\n",
        "  input2=Input(shape=(224,224,3))\n",
        "\n",
        "  #defining the base model\n",
        "  base_model=VGGFace(model='resnet50',include_top=False)\n",
        "\n",
        "  \n",
        "  #sister networks\n",
        "  x1=base_model(input1)\n",
        "  x2=base_model(input2)\n",
        "\n",
        "  x1=Concatenate(axis=-1)([GlobalMaxPool2D()(x1),GlobalAvgPool2D()(x1)])\n",
        "  x2=Concatenate(axis=-1)([GlobalMaxPool2D()(x2),GlobalAvgPool2D()(x2)])\n",
        "\n",
        "  #euclidean distance measure\n",
        "  x3=Subtract()([x1,x2])\n",
        "  x3=Multiply()([x3,x3])\n",
        "  #x=Multiply()([x3,x3])\n",
        "  \n",
        "  #manhattan distance measure with square of each point\n",
        "  #x=Multiply()([x1,x2])\n",
        "  x1_=Multiply()([x1,x1])\n",
        "  x2_=Multiply()([x2,x2])\n",
        "  x4=Subtract()([x1_,x2_])\n",
        "\n",
        "  #regularization\n",
        "  x5=Multiply()([x1,x2])\n",
        "\n",
        "  x=Concatenate(axis=-1)([x3,x4,x5])\n",
        "\n",
        "  x=Dense(100,activation='relu')(x) #batch normalization\n",
        "  x=Dropout(0.01)(x)\n",
        "  out=Dense(1,activation='sigmoid')(x)\n",
        "  \n",
        "\n",
        "  model=Model([input1,input2],out)\n",
        "\n",
        "  model.compile(loss='binary_crossentropy',metrics=['acc'],optimizer=Adam(0.00001))\n",
        "\n",
        "  model.summary()\n",
        "\n",
        "  return model"
      ]
    },
    {
      "cell_type": "code",
      "execution_count": null,
      "metadata": {
        "id": "5hnboKkZHtWI"
      },
      "outputs": [],
      "source": [
        "file_path='/content/drive/MyDrive/Dataset/vgg_face_1.h5'"
      ]
    },
    {
      "cell_type": "code",
      "execution_count": null,
      "metadata": {
        "id": "wRISdKJEHwIQ"
      },
      "outputs": [],
      "source": [
        "#Using callbacks\n",
        "checkpoint=ModelCheckpoint(file_path,monitor='val_acc',verbose=1,save_best_only=True,mode='max') #Saves the best model based on val_acc\n",
        "\n",
        "reduce_lr_on_plateau=ReduceLROnPlateau(monitor='val_acc',mode='max',factor=0.1,patience=20,verbose=1) #Reduces the learning rate when val_acc is not improving\n",
        "\n",
        "callbacks_list=[checkpoint,reduce_lr_on_plateau]"
      ]
    },
    {
      "cell_type": "code",
      "source": [
        "model=build_model()"
      ],
      "metadata": {
        "colab": {
          "base_uri": "https://localhost:8080/"
        },
        "id": "9iJHcdGjEtTV",
        "outputId": "8bb83567-19e2-4b44-991d-e01d07f3de9f"
      },
      "execution_count": null,
      "outputs": [
        {
          "output_type": "stream",
          "name": "stdout",
          "text": [
            "Model: \"model_1\"\n",
            "__________________________________________________________________________________________________\n",
            " Layer (type)                   Output Shape         Param #     Connected to                     \n",
            "==================================================================================================\n",
            " input_7 (InputLayer)           [(None, 224, 224, 3  0           []                               \n",
            "                                )]                                                                \n",
            "                                                                                                  \n",
            " input_8 (InputLayer)           [(None, 224, 224, 3  0           []                               \n",
            "                                )]                                                                \n",
            "                                                                                                  \n",
            " vggface_resnet50 (Functional)  (None, None, None,   23561152    ['input_7[0][0]',                \n",
            "                                2048)                             'input_8[0][0]']                \n",
            "                                                                                                  \n",
            " global_max_pooling2d_4 (Global  (None, 2048)        0           ['vggface_resnet50[0][0]']       \n",
            " MaxPooling2D)                                                                                    \n",
            "                                                                                                  \n",
            " global_average_pooling2d_4 (Gl  (None, 2048)        0           ['vggface_resnet50[0][0]']       \n",
            " obalAveragePooling2D)                                                                            \n",
            "                                                                                                  \n",
            " global_max_pooling2d_5 (Global  (None, 2048)        0           ['vggface_resnet50[1][0]']       \n",
            " MaxPooling2D)                                                                                    \n",
            "                                                                                                  \n",
            " global_average_pooling2d_5 (Gl  (None, 2048)        0           ['vggface_resnet50[1][0]']       \n",
            " obalAveragePooling2D)                                                                            \n",
            "                                                                                                  \n",
            " concatenate_4 (Concatenate)    (None, 4096)         0           ['global_max_pooling2d_4[0][0]', \n",
            "                                                                  'global_average_pooling2d_4[0][0\n",
            "                                                                 ]']                              \n",
            "                                                                                                  \n",
            " concatenate_5 (Concatenate)    (None, 4096)         0           ['global_max_pooling2d_5[0][0]', \n",
            "                                                                  'global_average_pooling2d_5[0][0\n",
            "                                                                 ]']                              \n",
            "                                                                                                  \n",
            " subtract (Subtract)            (None, 4096)         0           ['concatenate_4[0][0]',          \n",
            "                                                                  'concatenate_5[0][0]']          \n",
            "                                                                                                  \n",
            " multiply_1 (Multiply)          (None, 4096)         0           ['concatenate_4[0][0]',          \n",
            "                                                                  'concatenate_4[0][0]']          \n",
            "                                                                                                  \n",
            " multiply_2 (Multiply)          (None, 4096)         0           ['concatenate_5[0][0]',          \n",
            "                                                                  'concatenate_5[0][0]']          \n",
            "                                                                                                  \n",
            " multiply (Multiply)            (None, 4096)         0           ['subtract[0][0]',               \n",
            "                                                                  'subtract[0][0]']               \n",
            "                                                                                                  \n",
            " subtract_1 (Subtract)          (None, 4096)         0           ['multiply_1[0][0]',             \n",
            "                                                                  'multiply_2[0][0]']             \n",
            "                                                                                                  \n",
            " multiply_3 (Multiply)          (None, 4096)         0           ['concatenate_4[0][0]',          \n",
            "                                                                  'concatenate_5[0][0]']          \n",
            "                                                                                                  \n",
            " concatenate_6 (Concatenate)    (None, 12288)        0           ['multiply[0][0]',               \n",
            "                                                                  'subtract_1[0][0]',             \n",
            "                                                                  'multiply_3[0][0]']             \n",
            "                                                                                                  \n",
            " dense_2 (Dense)                (None, 100)          1228900     ['concatenate_6[0][0]']          \n",
            "                                                                                                  \n",
            " dropout (Dropout)              (None, 100)          0           ['dense_2[0][0]']                \n",
            "                                                                                                  \n",
            " dense_3 (Dense)                (None, 1)            101         ['dropout[0][0]']                \n",
            "                                                                                                  \n",
            "==================================================================================================\n",
            "Total params: 24,790,153\n",
            "Trainable params: 24,737,033\n",
            "Non-trainable params: 53,120\n",
            "__________________________________________________________________________________________________\n"
          ]
        }
      ]
    },
    {
      "cell_type": "code",
      "execution_count": null,
      "metadata": {
        "colab": {
          "base_uri": "https://localhost:8080/"
        },
        "id": "WPyqxYFlHzEO",
        "outputId": "ebb013ea-fdc3-4fcb-a8a0-a4ce8e15f65c"
      },
      "outputs": [
        {
          "output_type": "stream",
          "name": "stdout",
          "text": [
            "Epoch 1/5\n",
            "50/50 [==============================] - ETA: 0s - loss: 4.4602 - acc: 0.5975\n",
            "Epoch 1: val_acc improved from -inf to 0.56750, saving model to /content/drive/MyDrive/Dataset/vgg_face_1.h5\n",
            "50/50 [==============================] - 57s 728ms/step - loss: 4.4602 - acc: 0.5975 - val_loss: 7.8688 - val_acc: 0.5675 - lr: 1.0000e-05\n",
            "Epoch 2/5\n",
            "50/50 [==============================] - ETA: 0s - loss: 3.8433 - acc: 0.6012\n",
            "Epoch 2: val_acc improved from 0.56750 to 0.57375, saving model to /content/drive/MyDrive/Dataset/vgg_face_1.h5\n",
            "50/50 [==============================] - 34s 692ms/step - loss: 3.8433 - acc: 0.6012 - val_loss: 6.3762 - val_acc: 0.5738 - lr: 1.0000e-05\n",
            "Epoch 3/5\n",
            "50/50 [==============================] - ETA: 0s - loss: 3.6852 - acc: 0.5875\n",
            "Epoch 3: val_acc improved from 0.57375 to 0.59625, saving model to /content/drive/MyDrive/Dataset/vgg_face_1.h5\n",
            "50/50 [==============================] - 36s 726ms/step - loss: 3.6852 - acc: 0.5875 - val_loss: 4.9484 - val_acc: 0.5962 - lr: 1.0000e-05\n",
            "Epoch 4/5\n",
            "50/50 [==============================] - ETA: 0s - loss: 2.5923 - acc: 0.6325\n",
            "Epoch 4: val_acc improved from 0.59625 to 0.60500, saving model to /content/drive/MyDrive/Dataset/vgg_face_1.h5\n",
            "50/50 [==============================] - 37s 738ms/step - loss: 2.5923 - acc: 0.6325 - val_loss: 4.1381 - val_acc: 0.6050 - lr: 1.0000e-05\n",
            "Epoch 5/5\n",
            "50/50 [==============================] - ETA: 0s - loss: 2.3952 - acc: 0.6538\n",
            "Epoch 5: val_acc improved from 0.60500 to 0.61500, saving model to /content/drive/MyDrive/Dataset/vgg_face_1.h5\n",
            "50/50 [==============================] - 39s 797ms/step - loss: 2.3952 - acc: 0.6538 - val_loss: 3.4258 - val_acc: 0.6150 - lr: 1.0000e-05\n"
          ]
        }
      ],
      "source": [
        "history=model.fit_generator(data_generator(train,train_person_to_images_map,batch_size=16),\\\n",
        "                    use_multiprocessing=True,\\\n",
        "                    validation_data=data_generator(val, val_person_to_images_map, batch_size=16),\\\n",
        "                    epochs=5,verbose=1,workers=4,callbacks=callbacks_list,steps_per_epoch=50,validation_steps=50)"
      ]
    },
    {
      "cell_type": "code",
      "source": [
        "print(history.history.keys())"
      ],
      "metadata": {
        "colab": {
          "base_uri": "https://localhost:8080/"
        },
        "id": "e4m37TsRVUkT",
        "outputId": "bd3dbaba-13fc-442d-8799-13ecec0e7d5b"
      },
      "execution_count": null,
      "outputs": [
        {
          "output_type": "stream",
          "name": "stdout",
          "text": [
            "dict_keys(['loss', 'acc', 'val_loss', 'val_acc', 'lr'])\n"
          ]
        }
      ]
    },
    {
      "cell_type": "code",
      "source": [
        "import matplotlib.pyplot as plt\n",
        "\n",
        "plt.plot(history.history['acc'])\n",
        "plt.plot(history.history['val_acc'])\n",
        "plt.title('model accuracy')\n",
        "plt.ylabel('accuracy')\n",
        "plt.xlabel('epoch')\n",
        "plt.legend(['train', 'test'], loc='upper left')\n",
        "plt.show()"
      ],
      "metadata": {
        "id": "9V4mmslB_iOI",
        "colab": {
          "base_uri": "https://localhost:8080/",
          "height": 295
        },
        "outputId": "36554194-992e-4359-f64e-0feff17f2ac9"
      },
      "execution_count": null,
      "outputs": [
        {
          "output_type": "display_data",
          "data": {
            "text/plain": [
              "<Figure size 432x288 with 1 Axes>"
            ],
            "image/png": "[encoded data removed]"
          },
          "metadata": {
            "needs_background": "light"
          }
        }
      ]
    },
    {
      "cell_type": "code",
      "execution_count": null,
      "metadata": {
        "id": "PJeSrWrrk0fs",
        "colab": {
          "base_uri": "https://localhost:8080/"
        },
        "outputId": "3df00b46-80b5-4e07-e2d3-dd9b7ed0139e"
      },
      "outputs": [
        {
          "output_type": "stream",
          "name": "stdout",
          "text": [
            "INFO:tensorflow:Assets written to: ram://1b835c72-506c-43a8-b8da-4e8649c6968f/assets\n"
          ]
        }
      ],
      "source": [
        "import pickle\n",
        "with open('/content/drive/MyDrive/Dataset/history.pkl','wb') as f:\n",
        "  pickle.dump(history,f)"
      ]
    },
    {
      "cell_type": "code",
      "execution_count": null,
      "metadata": {
        "id": "ATechU_xm6oi"
      },
      "outputs": [],
      "source": [
        "#saving the model\n",
        "model.save('/content/drive/My Drive/Recognizing_Faces_in_the_Wild/vggface.h5')"
      ]
    },
    {
      "cell_type": "code",
      "execution_count": null,
      "metadata": {
        "id": "bXC9j6AIAeTF"
      },
      "outputs": [],
      "source": [
        "model=load_model('/content/drive/My Drive/Recognizing_Faces_in_the_Wild/vggface.h5')"
      ]
    },
    {
      "cell_type": "code",
      "execution_count": null,
      "metadata": {
        "id": "-ZsZQK5j04w-"
      },
      "outputs": [],
      "source": [
        "test_path='/content/drive/My Drive/Recognizing_Faces_in_the_Wild/test/'"
      ]
    },
    {
      "cell_type": "code",
      "execution_count": null,
      "metadata": {
        "id": "OkOwPTPMxv0Y"
      },
      "outputs": [],
      "source": [
        "submission=pd.read_csv('/content/drive/My Drive/Recognizing_Faces_in_the_Wild/sample_submission.csv',header=0)"
      ]
    },
    {
      "cell_type": "code",
      "execution_count": null,
      "metadata": {
        "colab": {
          "base_uri": "https://localhost:8080/",
          "height": 206
        },
        "id": "mkN6n7Qkx_fV",
        "outputId": "e1009ad1-47dc-44f6-a42c-de3cc9bd7a72"
      },
      "outputs": [
        {
          "output_type": "execute_result",
          "data": {
            "text/plain": [
              "                      img_pair  is_related\n",
              "0  face05508.jpg-face01210.jpg           0\n",
              "1  face05750.jpg-face00898.jpg           0\n",
              "2  face05820.jpg-face03938.jpg           0\n",
              "3  face02104.jpg-face01172.jpg           0\n",
              "4  face02428.jpg-face05611.jpg           0"
            ],
            "text/html": [
              "\n",
              "  <div id=\"df-347436a8-795c-4885-b5c5-7a3d5a783217\">\n",
              "    <div class=\"colab-df-container\">\n",
              "      <div>\n",
              "<style scoped>\n",
              "    .dataframe tbody tr th:only-of-type {\n",
              "        vertical-align: middle;\n",
              "    }\n",
              "\n",
              "    .dataframe tbody tr th {\n",
              "        vertical-align: top;\n",
              "    }\n",
              "\n",
              "    .dataframe thead th {\n",
              "        text-align: right;\n",
              "    }\n",
              "</style>\n",
              "<table border=\"1\" class=\"dataframe\">\n",
              "  <thead>\n",
              "    <tr style=\"text-align: right;\">\n",
              "      <th></th>\n",
              "      <th>img_pair</th>\n",
              "      <th>is_related</th>\n",
              "    </tr>\n",
              "  </thead>\n",
              "  <tbody>\n",
              "    <tr>\n",
              "      <th>0</th>\n",
              "      <td>face05508.jpg-face01210.jpg</td>\n",
              "      <td>0</td>\n",
              "    </tr>\n",
              "    <tr>\n",
              "      <th>1</th>\n",
              "      <td>face05750.jpg-face00898.jpg</td>\n",
              "      <td>0</td>\n",
              "    </tr>\n",
              "    <tr>\n",
              "      <th>2</th>\n",
              "      <td>face05820.jpg-face03938.jpg</td>\n",
              "      <td>0</td>\n",
              "    </tr>\n",
              "    <tr>\n",
              "      <th>3</th>\n",
              "      <td>face02104.jpg-face01172.jpg</td>\n",
              "      <td>0</td>\n",
              "    </tr>\n",
              "    <tr>\n",
              "      <th>4</th>\n",
              "      <td>face02428.jpg-face05611.jpg</td>\n",
              "      <td>0</td>\n",
              "    </tr>\n",
              "  </tbody>\n",
              "</table>\n",
              "</div>\n",
              "      <button class=\"colab-df-convert\" onclick=\"convertToInteractive('df-347436a8-795c-4885-b5c5-7a3d5a783217')\"\n",
              "              title=\"Convert this dataframe to an interactive table.\"\n",
              "              style=\"display:none;\">\n",
              "        \n",
              "  <svg xmlns=\"http://www.w3.org/2000/svg\" height=\"24px\"viewBox=\"0 0 24 24\"\n",
              "       width=\"24px\">\n",
              "    <path d=\"M0 0h24v24H0V0z\" fill=\"none\"/>\n",
              "    <path d=\"M18.56 5.44l.94 2.06.94-2.06 2.06-.94-2.06-.94-.94-2.06-.94 2.06-2.06.94zm-11 1L8.5 8.5l.94-2.06 2.06-.94-2.06-.94L8.5 2.5l-.94 2.06-2.06.94zm10 10l.94 2.06.94-2.06 2.06-.94-2.06-.94-.94-2.06-.94 2.06-2.06.94z\"/><path d=\"M17.41 7.96l-1.37-1.37c-.4-.4-.92-.59-1.43-.59-.52 0-1.04.2-1.43.59L10.3 9.45l-7.72 7.72c-.78.78-.78 2.05 0 2.83L4 21.41c.39.39.9.59 1.41.59.51 0 1.02-.2 1.41-.59l7.78-7.78 2.81-2.81c.8-.78.8-2.07 0-2.86zM5.41 20L4 18.59l7.72-7.72 1.47 1.35L5.41 20z\"/>\n",
              "  </svg>\n",
              "      </button>\n",
              "      \n",
              "  <style>\n",
              "    .colab-df-container {\n",
              "      display:flex;\n",
              "      flex-wrap:wrap;\n",
              "      gap: 12px;\n",
              "    }\n",
              "\n",
              "    .colab-df-convert {\n",
              "      background-color: #E8F0FE;\n",
              "      border: none;\n",
              "      border-radius: 50%;\n",
              "      cursor: pointer;\n",
              "      display: none;\n",
              "      fill: #1967D2;\n",
              "      height: 32px;\n",
              "      padding: 0 0 0 0;\n",
              "      width: 32px;\n",
              "    }\n",
              "\n",
              "    .colab-df-convert:hover {\n",
              "      background-color: #E2EBFA;\n",
              "      box-shadow: 0px 1px 2px rgba(60, 64, 67, 0.3), 0px 1px 3px 1px rgba(60, 64, 67, 0.15);\n",
              "      fill: #174EA6;\n",
              "    }\n",
              "\n",
              "    [theme=dark] .colab-df-convert {\n",
              "      background-color: #3B4455;\n",
              "      fill: #D2E3FC;\n",
              "    }\n",
              "\n",
              "    [theme=dark] .colab-df-convert:hover {\n",
              "      background-color: #434B5C;\n",
              "      box-shadow: 0px 1px 3px 1px rgba(0, 0, 0, 0.15);\n",
              "      filter: drop-shadow(0px 1px 2px rgba(0, 0, 0, 0.3));\n",
              "      fill: #FFFFFF;\n",
              "    }\n",
              "  </style>\n",
              "\n",
              "      <script>\n",
              "        const buttonEl =\n",
              "          document.querySelector('#df-347436a8-795c-4885-b5c5-7a3d5a783217 button.colab-df-convert');\n",
              "        buttonEl.style.display =\n",
              "          google.colab.kernel.accessAllowed ? 'block' : 'none';\n",
              "\n",
              "        async function convertToInteractive(key) {\n",
              "          const element = document.querySelector('#df-347436a8-795c-4885-b5c5-7a3d5a783217');\n",
              "          const dataTable =\n",
              "            await google.colab.kernel.invokeFunction('convertToInteractive',\n",
              "                                                     [key], {});\n",
              "          if (!dataTable) return;\n",
              "\n",
              "          const docLinkHtml = 'Like what you see? Visit the ' +\n",
              "            '<a target=\"_blank\" href=https://colab.research.google.com/notebooks/data_table.ipynb>data table notebook</a>'\n",
              "            + ' to learn more about interactive tables.';\n",
              "          element.innerHTML = '';\n",
              "          dataTable['output_type'] = 'display_data';\n",
              "          await google.colab.output.renderOutput(dataTable, element);\n",
              "          const docLink = document.createElement('div');\n",
              "          docLink.innerHTML = docLinkHtml;\n",
              "          element.appendChild(docLink);\n",
              "        }\n",
              "      </script>\n",
              "    </div>\n",
              "  </div>\n",
              "  "
            ]
          },
          "metadata": {},
          "execution_count": 27
        }
      ],
      "source": [
        "submission.head()"
      ]
    },
    {
      "cell_type": "code",
      "execution_count": null,
      "metadata": {
        "id": "lhDKk7rb2rmx"
      },
      "outputs": [],
      "source": [
        "#generates test data in batches\n",
        "def test_batch(test_pairs,size=32):\n",
        "  return (test_pairs[pos:pos+size] for pos in range(0,len(test_pairs),size))"
      ]
    },
    {
      "cell_type": "code",
      "execution_count": null,
      "metadata": {
        "colab": {
          "base_uri": "https://localhost:8080/"
        },
        "id": "FEfXxAcMx5EU",
        "outputId": "9f33fd2c-35fa-45ac-a545-c21290b678bd"
      },
      "outputs": [
        {
          "output_type": "stream",
          "name": "stderr",
          "text": [
            "166it [25:04,  9.06s/it]\n"
          ]
        }
      ],
      "source": [
        "predictions=[]\n",
        "\n",
        "for batch in tqdm(test_batch(submission.img_pair.values)):\n",
        "    X1 = [x.split(\"-\")[0] for x in batch]\n",
        "    X1 = np.array([img2arr(test_path + x) for x in X1])\n",
        "\n",
        "    X2 = [x.split(\"-\")[1] for x in batch]\n",
        "    X2 = np.array([img2arr(test_path + x) for x in X2])\n",
        "\n",
        "    pred = model.predict([X1, X2]).ravel().tolist()\n",
        "    predictions += pred\n",
        "\n",
        "submission['is_related'] = predictions"
      ]
    },
    {
      "cell_type": "code",
      "execution_count": null,
      "metadata": {
        "id": "0LJV4xjwNmrU"
      },
      "outputs": [],
      "source": [
        "submission.to_csv(\"/content/drive/My Drive/Recognizing_Faces_in_the_Wild/20190824/predictions.csv\", index=False)"
      ]
    },
    {
      "cell_type": "markdown",
      "metadata": {
        "id": "M9rQIRPP1yue"
      },
      "source": [
        "<strong>Note</strong>\n",
        "\n",
        "Used features (x1-x2)^2, (x1^2 - x2^2) and (x1*x2) \n",
        "\n",
        "Used different validation sets while training five models and took the average of predictions of all models to improve the score.\n",
        "\n"
      ]
    },
    {
      "cell_type": "code",
      "execution_count": null,
      "metadata": {
        "id": "GEyE0c7R1yuf"
      },
      "outputs": [],
      "source": [
        ""
      ]
    }
  ],
  "metadata": {
    "accelerator": "GPU",
    "colab": {
      "collapsed_sections": [],
      "name": "Recognizing_faces_in_th_wild.ipynb",
      "provenance": []
    },
    "kernelspec": {
      "display_name": "Python 3",
      "language": "python",
      "name": "python3"
    },
    "language_info": {
      "codemirror_mode": {
        "name": "ipython",
        "version": 3
      },
      "file_extension": ".py",
      "mimetype": "text/x-python",
      "name": "python",
      "nbconvert_exporter": "python",
      "pygments_lexer": "ipython3",
      "version": "3.6.5"
    }
  },
  "nbformat": 4,
  "nbformat_minor": 0
}